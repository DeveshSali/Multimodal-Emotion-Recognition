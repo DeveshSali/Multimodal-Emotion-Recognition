{
  "cells": [
    {
      "cell_type": "code",
      "execution_count": 736,
      "metadata": {
        "id": "igMyGnjE9hEp"
      },
      "outputs": [],
      "source": [
        "import csv\n",
        "\n",
        "import numpy as np\n",
        "import tensorflow as tf\n",
        "from sklearn.model_selection import train_test_split\n",
        "\n",
        "RANDOM_SEED = 42"
      ]
    },
    {
      "cell_type": "markdown",
      "metadata": {
        "id": "t2HDvhIu9hEr"
      },
      "source": [
        "# Specify each path"
      ]
    },
    {
      "cell_type": "code",
      "execution_count": 737,
      "metadata": {
        "id": "9NvZP2Zn9hEy"
      },
      "outputs": [],
      "source": [
        "dataset = 'model/keypoint_classifier/keypoint.csv'\n",
        "model_save_path = 'model/keypoint_classifier/keypoint_classifier.hdf5'\n",
        "tflite_save_path = 'model/keypoint_classifier/keypoint_classifier.tflite'"
      ]
    },
    {
      "cell_type": "markdown",
      "metadata": {
        "id": "s5oMH7x19hEz"
      },
      "source": [
        "# Set number of classes"
      ]
    },
    {
      "cell_type": "code",
      "execution_count": 738,
      "metadata": {
        "id": "du4kodXL9hEz"
      },
      "outputs": [],
      "source": [
        "NUM_CLASSES = 5"
      ]
    },
    {
      "cell_type": "markdown",
      "metadata": {
        "id": "XjnL0uso9hEz"
      },
      "source": [
        "# Dataset reading"
      ]
    },
    {
      "cell_type": "code",
      "execution_count": 739,
      "metadata": {
        "id": "QT5ZqtEz9hE0"
      },
      "outputs": [],
      "source": [
        "X_dataset = np.loadtxt(dataset, delimiter=',', dtype='float32', usecols=list(range(1, (478 * 2) + 1)))"
      ]
    },
    {
      "cell_type": "code",
      "execution_count": 740,
      "metadata": {
        "id": "QmoKFsp49hE0"
      },
      "outputs": [],
      "source": [
        "y_dataset = np.loadtxt(dataset, delimiter=',', dtype='int32', usecols=(0))"
      ]
    },
    {
      "cell_type": "code",
      "execution_count": 741,
      "metadata": {
        "id": "xQU7JTZ_9hE0"
      },
      "outputs": [],
      "source": [
        "X_train, X_test, y_train, y_test = train_test_split(X_dataset, y_dataset, train_size=0.8, random_state=RANDOM_SEED)"
      ]
    },
    {
      "cell_type": "markdown",
      "metadata": {
        "id": "mxK_lETT9hE0"
      },
      "source": [
        "# Model building"
      ]
    },
    {
      "cell_type": "code",
      "execution_count": 742,
      "metadata": {
        "id": "vHBmUf1t9hE1"
      },
      "outputs": [],
      "source": [
        "# model = tf.keras.models.Sequential([\n",
        "#     tf.keras.layers.Input((478 * 2, )),\n",
        "#     tf.keras.layers.Dense(64, activation='selu', kernel_initializer='lecun_normal'),\n",
        "#     tf.keras.layers.Dense(32, activation='selu', kernel_initializer='lecun_normal'),\n",
        "#     tf.keras.layers.Dense(16, activation='selu', kernel_initializer='lecun_normal'),\n",
        "#     tf.keras.layers.Dropout(0.5),\n",
        "#     tf.keras.layers.Dense(NUM_CLASSES, activation='softmax')\n",
        "# ])\n",
        "\n",
        "model = tf.keras.models.Sequential([\n",
        "    tf.keras.layers.Input((478 * 2, )),\n",
        "    tf.keras.layers.Dense(20, activation='elu'),\n",
        "    tf.keras.layers.Dropout(0.5),\n",
        "    tf.keras.layers.Dense(10, activation='elu'),\n",
        "    tf.keras.layers.Dense(NUM_CLASSES, activation='softmax')\n",
        "])"
      ]
    },
    {
      "cell_type": "code",
      "execution_count": 743,
      "metadata": {
        "colab": {
          "base_uri": "https://localhost:8080/"
        },
        "id": "ypqky9tc9hE1",
        "outputId": "5db082bb-30e3-4110-bf63-a1ee777ecd46"
      },
      "outputs": [
        {
          "name": "stdout",
          "output_type": "stream",
          "text": [
            "Model: \"sequential_36\"\n",
            "_________________________________________________________________\n",
            " Layer (type)                Output Shape              Param #   \n",
            "=================================================================\n",
            " dense_135 (Dense)           (None, 20)                19140     \n",
            "                                                                 \n",
            " dropout_86 (Dropout)        (None, 20)                0         \n",
            "                                                                 \n",
            " dense_136 (Dense)           (None, 10)                210       \n",
            "                                                                 \n",
            " dense_137 (Dense)           (None, 5)                 55        \n",
            "                                                                 \n",
            "=================================================================\n",
            "Total params: 19,405\n",
            "Trainable params: 19,405\n",
            "Non-trainable params: 0\n",
            "_________________________________________________________________\n"
          ]
        }
      ],
      "source": [
        "model.summary()  # tf.keras.utils.plot_model(model, show_shapes=True)"
      ]
    },
    {
      "cell_type": "code",
      "execution_count": 744,
      "metadata": {
        "id": "MbMjOflQ9hE1"
      },
      "outputs": [],
      "source": [
        "# Model checkpoint callback\n",
        "cp_callback = tf.keras.callbacks.ModelCheckpoint(\n",
        "    model_save_path, verbose=1, save_weights_only=False)\n",
        "# Callback for early stopping\n",
        "es_callback = tf.keras.callbacks.EarlyStopping(patience=20, verbose=1)"
      ]
    },
    {
      "cell_type": "code",
      "execution_count": 745,
      "metadata": {
        "id": "c3Dac0M_9hE2"
      },
      "outputs": [],
      "source": [
        "# Model compilation\n",
        "opt = tf.keras.optimizers.Adam(learning_rate=0.001)\n",
        "model.compile(\n",
        "    optimizer=opt,\n",
        "    loss='sparse_categorical_crossentropy',\n",
        "    metrics=['accuracy']\n",
        ")"
      ]
    },
    {
      "cell_type": "markdown",
      "metadata": {
        "id": "7XI0j1Iu9hE2"
      },
      "source": [
        "# Model training"
      ]
    },
    {
      "cell_type": "code",
      "execution_count": 746,
      "metadata": {
        "colab": {
          "base_uri": "https://localhost:8080/"
        },
        "id": "WirBl-JE9hE3",
        "outputId": "71b30ca2-8294-4d9d-8aa2-800d90d399de",
        "scrolled": true
      },
      "outputs": [
        {
          "name": "stdout",
          "output_type": "stream",
          "text": [
            "Epoch 1/1000\n",
            "42/75 [===============>..............] - ETA: 0s - loss: 1.5240 - accuracy: 0.3328 \n",
            "Epoch 00001: saving model to model/keypoint_classifier\\keypoint_classifier.hdf5\n",
            "75/75 [==============================] - 0s 3ms/step - loss: 1.4114 - accuracy: 0.4166 - val_loss: 1.0966 - val_accuracy: 0.6219\n",
            "Epoch 2/1000\n",
            "50/75 [===================>..........] - ETA: 0s - loss: 1.0692 - accuracy: 0.6288\n",
            "Epoch 00002: saving model to model/keypoint_classifier\\keypoint_classifier.hdf5\n",
            "75/75 [==============================] - 0s 2ms/step - loss: 1.0157 - accuracy: 0.6526 - val_loss: 0.7701 - val_accuracy: 0.7747\n",
            "Epoch 3/1000\n",
            "74/75 [============================>.] - ETA: 0s - loss: 0.7589 - accuracy: 0.7383\n",
            "Epoch 00003: saving model to model/keypoint_classifier\\keypoint_classifier.hdf5\n",
            "75/75 [==============================] - 0s 2ms/step - loss: 0.7578 - accuracy: 0.7391 - val_loss: 0.5567 - val_accuracy: 0.8338\n",
            "Epoch 4/1000\n",
            "44/75 [================>.............] - ETA: 0s - loss: 0.6174 - accuracy: 0.7889\n",
            "Epoch 00004: saving model to model/keypoint_classifier\\keypoint_classifier.hdf5\n",
            "75/75 [==============================] - 0s 2ms/step - loss: 0.6012 - accuracy: 0.7877 - val_loss: 0.4336 - val_accuracy: 0.8769\n",
            "Epoch 5/1000\n",
            "50/75 [===================>..........] - ETA: 0s - loss: 0.5293 - accuracy: 0.8108\n",
            "Epoch 00005: saving model to model/keypoint_classifier\\keypoint_classifier.hdf5\n",
            "75/75 [==============================] - 0s 2ms/step - loss: 0.5128 - accuracy: 0.8168 - val_loss: 0.3685 - val_accuracy: 0.8924\n",
            "Epoch 6/1000\n",
            "50/75 [===================>..........] - ETA: 0s - loss: 0.4679 - accuracy: 0.8305\n",
            "Epoch 00006: saving model to model/keypoint_classifier\\keypoint_classifier.hdf5\n",
            "75/75 [==============================] - 0s 2ms/step - loss: 0.4568 - accuracy: 0.8366 - val_loss: 0.3136 - val_accuracy: 0.9146\n",
            "Epoch 7/1000\n",
            "72/75 [===========================>..] - ETA: 0s - loss: 0.4145 - accuracy: 0.8541\n",
            "Epoch 00007: saving model to model/keypoint_classifier\\keypoint_classifier.hdf5\n",
            "75/75 [==============================] - 0s 2ms/step - loss: 0.4124 - accuracy: 0.8545 - val_loss: 0.2950 - val_accuracy: 0.9129\n",
            "Epoch 8/1000\n",
            "50/75 [===================>..........] - ETA: 0s - loss: 0.3918 - accuracy: 0.8528\n",
            "Epoch 00008: saving model to model/keypoint_classifier\\keypoint_classifier.hdf5\n",
            "75/75 [==============================] - 0s 2ms/step - loss: 0.3812 - accuracy: 0.8583 - val_loss: 0.2825 - val_accuracy: 0.8890\n",
            "Epoch 9/1000\n",
            "49/75 [==================>...........] - ETA: 0s - loss: 0.3631 - accuracy: 0.8736\n",
            "Epoch 00009: saving model to model/keypoint_classifier\\keypoint_classifier.hdf5\n",
            "75/75 [==============================] - 0s 2ms/step - loss: 0.3550 - accuracy: 0.8754 - val_loss: 0.2410 - val_accuracy: 0.9263\n",
            "Epoch 10/1000\n",
            "51/75 [===================>..........] - ETA: 0s - loss: 0.3485 - accuracy: 0.8742\n",
            "Epoch 00010: saving model to model/keypoint_classifier\\keypoint_classifier.hdf5\n",
            "75/75 [==============================] - 0s 2ms/step - loss: 0.3438 - accuracy: 0.8762 - val_loss: 0.2366 - val_accuracy: 0.9246\n",
            "Epoch 11/1000\n",
            "37/75 [=============>................] - ETA: 0s - loss: 0.3221 - accuracy: 0.8813\n",
            "Epoch 00011: saving model to model/keypoint_classifier\\keypoint_classifier.hdf5\n",
            "75/75 [==============================] - 0s 2ms/step - loss: 0.3140 - accuracy: 0.8895 - val_loss: 0.2279 - val_accuracy: 0.9255\n",
            "Epoch 12/1000\n",
            "47/75 [=================>............] - ETA: 0s - loss: 0.2933 - accuracy: 0.8981\n",
            "Epoch 00012: saving model to model/keypoint_classifier\\keypoint_classifier.hdf5\n",
            "75/75 [==============================] - 0s 2ms/step - loss: 0.3028 - accuracy: 0.8934 - val_loss: 0.2251 - val_accuracy: 0.9213\n",
            "Epoch 13/1000\n",
            "48/75 [==================>...........] - ETA: 0s - loss: 0.3021 - accuracy: 0.8911\n",
            "Epoch 00013: saving model to model/keypoint_classifier\\keypoint_classifier.hdf5\n",
            "75/75 [==============================] - 0s 2ms/step - loss: 0.3081 - accuracy: 0.8883 - val_loss: 0.2005 - val_accuracy: 0.9389\n",
            "Epoch 14/1000\n",
            "51/75 [===================>..........] - ETA: 0s - loss: 0.2847 - accuracy: 0.9029\n",
            "Epoch 00014: saving model to model/keypoint_classifier\\keypoint_classifier.hdf5\n",
            "75/75 [==============================] - 0s 2ms/step - loss: 0.2869 - accuracy: 0.9010 - val_loss: 0.2123 - val_accuracy: 0.9250\n",
            "Epoch 15/1000\n",
            "42/75 [===============>..............] - ETA: 0s - loss: 0.2842 - accuracy: 0.8984\n",
            "Epoch 00015: saving model to model/keypoint_classifier\\keypoint_classifier.hdf5\n",
            "75/75 [==============================] - 0s 2ms/step - loss: 0.2801 - accuracy: 0.8995 - val_loss: 0.1883 - val_accuracy: 0.9401\n",
            "Epoch 16/1000\n",
            "51/75 [===================>..........] - ETA: 0s - loss: 0.2800 - accuracy: 0.9009\n",
            "Epoch 00016: saving model to model/keypoint_classifier\\keypoint_classifier.hdf5\n",
            "75/75 [==============================] - 0s 2ms/step - loss: 0.2763 - accuracy: 0.9001 - val_loss: 0.2087 - val_accuracy: 0.9158\n",
            "Epoch 17/1000\n",
            "52/75 [===================>..........] - ETA: 0s - loss: 0.2662 - accuracy: 0.9076\n",
            "Epoch 00017: saving model to model/keypoint_classifier\\keypoint_classifier.hdf5\n",
            "75/75 [==============================] - 0s 2ms/step - loss: 0.2639 - accuracy: 0.9068 - val_loss: 0.1832 - val_accuracy: 0.9410\n",
            "Epoch 18/1000\n",
            "47/75 [=================>............] - ETA: 0s - loss: 0.2514 - accuracy: 0.9061\n",
            "Epoch 00018: saving model to model/keypoint_classifier\\keypoint_classifier.hdf5\n",
            "75/75 [==============================] - 0s 2ms/step - loss: 0.2494 - accuracy: 0.9087 - val_loss: 0.1723 - val_accuracy: 0.9460\n",
            "Epoch 19/1000\n",
            "46/75 [=================>............] - ETA: 0s - loss: 0.2511 - accuracy: 0.9081\n",
            "Epoch 00019: saving model to model/keypoint_classifier\\keypoint_classifier.hdf5\n",
            "75/75 [==============================] - 0s 2ms/step - loss: 0.2546 - accuracy: 0.9092 - val_loss: 0.1705 - val_accuracy: 0.9430\n",
            "Epoch 20/1000\n",
            "49/75 [==================>...........] - ETA: 0s - loss: 0.2378 - accuracy: 0.9165\n",
            "Epoch 00020: saving model to model/keypoint_classifier\\keypoint_classifier.hdf5\n",
            "75/75 [==============================] - 0s 2ms/step - loss: 0.2367 - accuracy: 0.9149 - val_loss: 0.1727 - val_accuracy: 0.9347\n",
            "Epoch 21/1000\n",
            "51/75 [===================>..........] - ETA: 0s - loss: 0.2502 - accuracy: 0.9056\n",
            "Epoch 00021: saving model to model/keypoint_classifier\\keypoint_classifier.hdf5\n",
            "75/75 [==============================] - 0s 2ms/step - loss: 0.2481 - accuracy: 0.9079 - val_loss: 0.1590 - val_accuracy: 0.9535\n",
            "Epoch 22/1000\n",
            "50/75 [===================>..........] - ETA: 0s - loss: 0.2407 - accuracy: 0.9123\n",
            "Epoch 00022: saving model to model/keypoint_classifier\\keypoint_classifier.hdf5\n",
            "75/75 [==============================] - 0s 2ms/step - loss: 0.2415 - accuracy: 0.9134 - val_loss: 0.1634 - val_accuracy: 0.9456\n",
            "Epoch 23/1000\n",
            "69/75 [==========================>...] - ETA: 0s - loss: 0.2373 - accuracy: 0.9134\n",
            "Epoch 00023: saving model to model/keypoint_classifier\\keypoint_classifier.hdf5\n",
            "75/75 [==============================] - 0s 2ms/step - loss: 0.2393 - accuracy: 0.9128 - val_loss: 0.1705 - val_accuracy: 0.9372\n",
            "Epoch 24/1000\n",
            "50/75 [===================>..........] - ETA: 0s - loss: 0.2498 - accuracy: 0.9109\n",
            "Epoch 00024: saving model to model/keypoint_classifier\\keypoint_classifier.hdf5\n",
            "75/75 [==============================] - 0s 2ms/step - loss: 0.2457 - accuracy: 0.9098 - val_loss: 0.1575 - val_accuracy: 0.9477\n",
            "Epoch 25/1000\n",
            "50/75 [===================>..........] - ETA: 0s - loss: 0.2428 - accuracy: 0.9100\n",
            "Epoch 00025: saving model to model/keypoint_classifier\\keypoint_classifier.hdf5\n",
            "75/75 [==============================] - 0s 2ms/step - loss: 0.2394 - accuracy: 0.9096 - val_loss: 0.1570 - val_accuracy: 0.9447\n",
            "Epoch 26/1000\n",
            "49/75 [==================>...........] - ETA: 0s - loss: 0.2169 - accuracy: 0.9251\n",
            "Epoch 00026: saving model to model/keypoint_classifier\\keypoint_classifier.hdf5\n",
            "75/75 [==============================] - 0s 2ms/step - loss: 0.2196 - accuracy: 0.9241 - val_loss: 0.1567 - val_accuracy: 0.9401\n",
            "Epoch 27/1000\n",
            "51/75 [===================>..........] - ETA: 0s - loss: 0.2334 - accuracy: 0.9144\n",
            "Epoch 00027: saving model to model/keypoint_classifier\\keypoint_classifier.hdf5\n",
            "75/75 [==============================] - 0s 2ms/step - loss: 0.2235 - accuracy: 0.9180 - val_loss: 0.1580 - val_accuracy: 0.9493\n",
            "Epoch 28/1000\n",
            "51/75 [===================>..........] - ETA: 0s - loss: 0.2239 - accuracy: 0.9182\n",
            "Epoch 00028: saving model to model/keypoint_classifier\\keypoint_classifier.hdf5\n",
            "75/75 [==============================] - 0s 2ms/step - loss: 0.2227 - accuracy: 0.9180 - val_loss: 0.1437 - val_accuracy: 0.9502\n",
            "Epoch 29/1000\n",
            "50/75 [===================>..........] - ETA: 0s - loss: 0.2260 - accuracy: 0.9217\n",
            "Epoch 00029: saving model to model/keypoint_classifier\\keypoint_classifier.hdf5\n",
            "75/75 [==============================] - 0s 2ms/step - loss: 0.2186 - accuracy: 0.9236 - val_loss: 0.1533 - val_accuracy: 0.9414\n",
            "Epoch 30/1000\n",
            "50/75 [===================>..........] - ETA: 0s - loss: 0.2082 - accuracy: 0.9247\n",
            "Epoch 00030: saving model to model/keypoint_classifier\\keypoint_classifier.hdf5\n",
            "75/75 [==============================] - 0s 2ms/step - loss: 0.2180 - accuracy: 0.9221 - val_loss: 0.1633 - val_accuracy: 0.9447\n",
            "Epoch 31/1000\n",
            "48/75 [==================>...........] - ETA: 0s - loss: 0.2147 - accuracy: 0.9222\n",
            "Epoch 00031: saving model to model/keypoint_classifier\\keypoint_classifier.hdf5\n",
            "75/75 [==============================] - 0s 2ms/step - loss: 0.2075 - accuracy: 0.9258 - val_loss: 0.1820 - val_accuracy: 0.9284\n",
            "Epoch 32/1000\n",
            "52/75 [===================>..........] - ETA: 0s - loss: 0.1974 - accuracy: 0.9292\n",
            "Epoch 00032: saving model to model/keypoint_classifier\\keypoint_classifier.hdf5\n",
            "75/75 [==============================] - 0s 2ms/step - loss: 0.2018 - accuracy: 0.9287 - val_loss: 0.1823 - val_accuracy: 0.9317\n",
            "Epoch 33/1000\n",
            "49/75 [==================>...........] - ETA: 0s - loss: 0.2108 - accuracy: 0.9244\n",
            "Epoch 00033: saving model to model/keypoint_classifier\\keypoint_classifier.hdf5\n",
            "75/75 [==============================] - 0s 2ms/step - loss: 0.2133 - accuracy: 0.9217 - val_loss: 0.1296 - val_accuracy: 0.9598\n",
            "Epoch 34/1000\n",
            "36/75 [=============>................] - ETA: 0s - loss: 0.1983 - accuracy: 0.9280\n",
            "Epoch 00034: saving model to model/keypoint_classifier\\keypoint_classifier.hdf5\n",
            "75/75 [==============================] - 0s 2ms/step - loss: 0.2041 - accuracy: 0.9253 - val_loss: 0.1382 - val_accuracy: 0.9485\n",
            "Epoch 35/1000\n",
            "48/75 [==================>...........] - ETA: 0s - loss: 0.2137 - accuracy: 0.9201\n",
            "Epoch 00035: saving model to model/keypoint_classifier\\keypoint_classifier.hdf5\n",
            "75/75 [==============================] - 0s 2ms/step - loss: 0.2102 - accuracy: 0.9215 - val_loss: 0.1300 - val_accuracy: 0.9615\n",
            "Epoch 36/1000\n",
            "49/75 [==================>...........] - ETA: 0s - loss: 0.1953 - accuracy: 0.9283\n",
            "Epoch 00036: saving model to model/keypoint_classifier\\keypoint_classifier.hdf5\n",
            "75/75 [==============================] - 0s 2ms/step - loss: 0.2092 - accuracy: 0.9232 - val_loss: 0.1340 - val_accuracy: 0.9569\n",
            "Epoch 37/1000\n",
            "42/75 [===============>..............] - ETA: 0s - loss: 0.2197 - accuracy: 0.9102\n",
            "Epoch 00037: saving model to model/keypoint_classifier\\keypoint_classifier.hdf5\n",
            "75/75 [==============================] - 0s 2ms/step - loss: 0.2120 - accuracy: 0.9190 - val_loss: 0.1293 - val_accuracy: 0.9552\n",
            "Epoch 38/1000\n",
            "39/75 [==============>...............] - ETA: 0s - loss: 0.1932 - accuracy: 0.9263\n",
            "Epoch 00038: saving model to model/keypoint_classifier\\keypoint_classifier.hdf5\n",
            "75/75 [==============================] - 0s 2ms/step - loss: 0.1935 - accuracy: 0.9272 - val_loss: 0.1208 - val_accuracy: 0.9631\n",
            "Epoch 39/1000\n",
            "48/75 [==================>...........] - ETA: 0s - loss: 0.1767 - accuracy: 0.9354\n",
            "Epoch 00039: saving model to model/keypoint_classifier\\keypoint_classifier.hdf5\n",
            "75/75 [==============================] - 0s 2ms/step - loss: 0.1865 - accuracy: 0.9309 - val_loss: 0.1171 - val_accuracy: 0.9673\n",
            "Epoch 40/1000\n",
            "46/75 [=================>............] - ETA: 0s - loss: 0.1934 - accuracy: 0.9275\n",
            "Epoch 00040: saving model to model/keypoint_classifier\\keypoint_classifier.hdf5\n",
            "75/75 [==============================] - 0s 2ms/step - loss: 0.1869 - accuracy: 0.9301 - val_loss: 0.1154 - val_accuracy: 0.9673\n",
            "Epoch 41/1000\n",
            "45/75 [=================>............] - ETA: 0s - loss: 0.1902 - accuracy: 0.9351\n",
            "Epoch 00041: saving model to model/keypoint_classifier\\keypoint_classifier.hdf5\n",
            "75/75 [==============================] - 0s 2ms/step - loss: 0.1876 - accuracy: 0.9332 - val_loss: 0.1239 - val_accuracy: 0.9539\n",
            "Epoch 42/1000\n",
            "61/75 [=======================>......] - ETA: 0s - loss: 0.1865 - accuracy: 0.9319\n",
            "Epoch 00042: saving model to model/keypoint_classifier\\keypoint_classifier.hdf5\n",
            "75/75 [==============================] - 0s 3ms/step - loss: 0.1857 - accuracy: 0.9311 - val_loss: 0.1116 - val_accuracy: 0.9665\n",
            "Epoch 43/1000\n",
            "44/75 [================>.............] - ETA: 0s - loss: 0.1746 - accuracy: 0.9375\n",
            "Epoch 00043: saving model to model/keypoint_classifier\\keypoint_classifier.hdf5\n",
            "75/75 [==============================] - 0s 2ms/step - loss: 0.1696 - accuracy: 0.9391 - val_loss: 0.1294 - val_accuracy: 0.9556\n",
            "Epoch 44/1000\n",
            "46/75 [=================>............] - ETA: 0s - loss: 0.1933 - accuracy: 0.9231\n",
            "Epoch 00044: saving model to model/keypoint_classifier\\keypoint_classifier.hdf5\n",
            "75/75 [==============================] - 0s 2ms/step - loss: 0.1911 - accuracy: 0.9263 - val_loss: 0.1178 - val_accuracy: 0.9598\n",
            "Epoch 45/1000\n",
            "46/75 [=================>............] - ETA: 0s - loss: 0.1855 - accuracy: 0.9305\n",
            "Epoch 00045: saving model to model/keypoint_classifier\\keypoint_classifier.hdf5\n",
            "75/75 [==============================] - 0s 2ms/step - loss: 0.1902 - accuracy: 0.9281 - val_loss: 0.1146 - val_accuracy: 0.9644\n",
            "Epoch 46/1000\n",
            "49/75 [==================>...........] - ETA: 0s - loss: 0.1951 - accuracy: 0.9271\n",
            "Epoch 00046: saving model to model/keypoint_classifier\\keypoint_classifier.hdf5\n",
            "75/75 [==============================] - 0s 2ms/step - loss: 0.1930 - accuracy: 0.9300 - val_loss: 0.1203 - val_accuracy: 0.9652\n",
            "Epoch 47/1000\n",
            "38/75 [==============>...............] - ETA: 0s - loss: 0.1747 - accuracy: 0.9334\n",
            "Epoch 00047: saving model to model/keypoint_classifier\\keypoint_classifier.hdf5\n",
            "75/75 [==============================] - 0s 2ms/step - loss: 0.1751 - accuracy: 0.9344 - val_loss: 0.1562 - val_accuracy: 0.9330\n",
            "Epoch 48/1000\n",
            "46/75 [=================>............] - ETA: 0s - loss: 0.1753 - accuracy: 0.9383\n",
            "Epoch 00048: saving model to model/keypoint_classifier\\keypoint_classifier.hdf5\n",
            "75/75 [==============================] - 0s 2ms/step - loss: 0.1788 - accuracy: 0.9359 - val_loss: 0.1221 - val_accuracy: 0.9590\n",
            "Epoch 49/1000\n",
            "46/75 [=================>............] - ETA: 0s - loss: 0.1571 - accuracy: 0.9406\n",
            "Epoch 00049: saving model to model/keypoint_classifier\\keypoint_classifier.hdf5\n",
            "75/75 [==============================] - 0s 2ms/step - loss: 0.1686 - accuracy: 0.9372 - val_loss: 0.1071 - val_accuracy: 0.9686\n",
            "Epoch 50/1000\n",
            "40/75 [===============>..............] - ETA: 0s - loss: 0.1634 - accuracy: 0.9430\n",
            "Epoch 00050: saving model to model/keypoint_classifier\\keypoint_classifier.hdf5\n",
            "75/75 [==============================] - 0s 2ms/step - loss: 0.1716 - accuracy: 0.9381 - val_loss: 0.1090 - val_accuracy: 0.9657\n",
            "Epoch 51/1000\n",
            "43/75 [================>.............] - ETA: 0s - loss: 0.1695 - accuracy: 0.9390\n",
            "Epoch 00051: saving model to model/keypoint_classifier\\keypoint_classifier.hdf5\n",
            "75/75 [==============================] - 0s 2ms/step - loss: 0.1738 - accuracy: 0.9387 - val_loss: 0.1033 - val_accuracy: 0.9715\n",
            "Epoch 52/1000\n",
            "38/75 [==============>...............] - ETA: 0s - loss: 0.1828 - accuracy: 0.9332\n",
            "Epoch 00052: saving model to model/keypoint_classifier\\keypoint_classifier.hdf5\n",
            "75/75 [==============================] - 0s 2ms/step - loss: 0.1741 - accuracy: 0.9363 - val_loss: 0.1139 - val_accuracy: 0.9615\n",
            "Epoch 53/1000\n",
            "42/75 [===============>..............] - ETA: 0s - loss: 0.1790 - accuracy: 0.9355\n",
            "Epoch 00053: saving model to model/keypoint_classifier\\keypoint_classifier.hdf5\n",
            "75/75 [==============================] - 0s 2ms/step - loss: 0.1760 - accuracy: 0.9363 - val_loss: 0.1096 - val_accuracy: 0.9602\n",
            "Epoch 54/1000\n",
            "45/75 [=================>............] - ETA: 0s - loss: 0.1820 - accuracy: 0.9319\n",
            "Epoch 00054: saving model to model/keypoint_classifier\\keypoint_classifier.hdf5\n",
            "75/75 [==============================] - 0s 2ms/step - loss: 0.1990 - accuracy: 0.9223 - val_loss: 0.1481 - val_accuracy: 0.9380\n",
            "Epoch 55/1000\n",
            "38/75 [==============>...............] - ETA: 0s - loss: 0.1659 - accuracy: 0.9431\n",
            "Epoch 00055: saving model to model/keypoint_classifier\\keypoint_classifier.hdf5\n",
            "75/75 [==============================] - 0s 2ms/step - loss: 0.1704 - accuracy: 0.9400 - val_loss: 0.1196 - val_accuracy: 0.9615\n",
            "Epoch 56/1000\n",
            "47/75 [=================>............] - ETA: 0s - loss: 0.1680 - accuracy: 0.9413\n",
            "Epoch 00056: saving model to model/keypoint_classifier\\keypoint_classifier.hdf5\n",
            "75/75 [==============================] - 0s 2ms/step - loss: 0.1656 - accuracy: 0.9401 - val_loss: 0.1113 - val_accuracy: 0.9552\n",
            "Epoch 57/1000\n",
            "39/75 [==============>...............] - ETA: 0s - loss: 0.1716 - accuracy: 0.9349\n",
            "Epoch 00057: saving model to model/keypoint_classifier\\keypoint_classifier.hdf5\n",
            "75/75 [==============================] - 0s 2ms/step - loss: 0.1682 - accuracy: 0.9383 - val_loss: 0.1198 - val_accuracy: 0.9611\n",
            "Epoch 58/1000\n",
            "40/75 [===============>..............] - ETA: 0s - loss: 0.1490 - accuracy: 0.9459\n",
            "Epoch 00058: saving model to model/keypoint_classifier\\keypoint_classifier.hdf5\n",
            "75/75 [==============================] - 0s 2ms/step - loss: 0.1580 - accuracy: 0.9440 - val_loss: 0.1009 - val_accuracy: 0.9636\n",
            "Epoch 59/1000\n",
            "48/75 [==================>...........] - ETA: 0s - loss: 0.1616 - accuracy: 0.9417\n",
            "Epoch 00059: saving model to model/keypoint_classifier\\keypoint_classifier.hdf5\n",
            "75/75 [==============================] - 0s 2ms/step - loss: 0.1650 - accuracy: 0.9391 - val_loss: 0.0938 - val_accuracy: 0.9724\n",
            "Epoch 60/1000\n",
            "48/75 [==================>...........] - ETA: 0s - loss: 0.1578 - accuracy: 0.9424\n",
            "Epoch 00060: saving model to model/keypoint_classifier\\keypoint_classifier.hdf5\n",
            "75/75 [==============================] - 0s 2ms/step - loss: 0.1576 - accuracy: 0.9429 - val_loss: 0.0934 - val_accuracy: 0.9719\n",
            "Epoch 61/1000\n",
            "42/75 [===============>..............] - ETA: 0s - loss: 0.1623 - accuracy: 0.9431\n",
            "Epoch 00061: saving model to model/keypoint_classifier\\keypoint_classifier.hdf5\n",
            "75/75 [==============================] - 0s 2ms/step - loss: 0.1695 - accuracy: 0.9374 - val_loss: 0.0906 - val_accuracy: 0.9728\n",
            "Epoch 62/1000\n",
            "43/75 [================>.............] - ETA: 0s - loss: 0.1580 - accuracy: 0.9406\n",
            "Epoch 00062: saving model to model/keypoint_classifier\\keypoint_classifier.hdf5\n",
            "75/75 [==============================] - 0s 2ms/step - loss: 0.1574 - accuracy: 0.9433 - val_loss: 0.0977 - val_accuracy: 0.9678\n",
            "Epoch 63/1000\n",
            "42/75 [===============>..............] - ETA: 0s - loss: 0.1580 - accuracy: 0.9397\n",
            "Epoch 00063: saving model to model/keypoint_classifier\\keypoint_classifier.hdf5\n",
            "75/75 [==============================] - 0s 2ms/step - loss: 0.1626 - accuracy: 0.9386 - val_loss: 0.1064 - val_accuracy: 0.9615\n",
            "Epoch 64/1000\n",
            "39/75 [==============>...............] - ETA: 0s - loss: 0.1564 - accuracy: 0.9385\n",
            "Epoch 00064: saving model to model/keypoint_classifier\\keypoint_classifier.hdf5\n",
            "75/75 [==============================] - 0s 2ms/step - loss: 0.1625 - accuracy: 0.9386 - val_loss: 0.0979 - val_accuracy: 0.9698\n",
            "Epoch 65/1000\n",
            "46/75 [=================>............] - ETA: 0s - loss: 0.1685 - accuracy: 0.9317\n",
            "Epoch 00065: saving model to model/keypoint_classifier\\keypoint_classifier.hdf5\n",
            "75/75 [==============================] - 0s 2ms/step - loss: 0.1719 - accuracy: 0.9341 - val_loss: 0.1093 - val_accuracy: 0.9631\n",
            "Epoch 66/1000\n",
            "39/75 [==============>...............] - ETA: 0s - loss: 0.1769 - accuracy: 0.9367\n",
            "Epoch 00066: saving model to model/keypoint_classifier\\keypoint_classifier.hdf5\n",
            "75/75 [==============================] - 0s 2ms/step - loss: 0.1703 - accuracy: 0.9358 - val_loss: 0.1074 - val_accuracy: 0.9652\n",
            "Epoch 67/1000\n",
            "42/75 [===============>..............] - ETA: 0s - loss: 0.1763 - accuracy: 0.9330\n",
            "Epoch 00067: saving model to model/keypoint_classifier\\keypoint_classifier.hdf5\n",
            "75/75 [==============================] - 0s 2ms/step - loss: 0.1758 - accuracy: 0.9329 - val_loss: 0.0900 - val_accuracy: 0.9728\n",
            "Epoch 68/1000\n",
            "48/75 [==================>...........] - ETA: 0s - loss: 0.1533 - accuracy: 0.9435\n",
            "Epoch 00068: saving model to model/keypoint_classifier\\keypoint_classifier.hdf5\n",
            "75/75 [==============================] - 0s 2ms/step - loss: 0.1474 - accuracy: 0.9459 - val_loss: 0.0887 - val_accuracy: 0.9728\n",
            "Epoch 69/1000\n",
            "42/75 [===============>..............] - ETA: 0s - loss: 0.1393 - accuracy: 0.9481\n",
            "Epoch 00069: saving model to model/keypoint_classifier\\keypoint_classifier.hdf5\n",
            "75/75 [==============================] - 0s 2ms/step - loss: 0.1425 - accuracy: 0.9476 - val_loss: 0.1030 - val_accuracy: 0.9585\n",
            "Epoch 70/1000\n",
            "43/75 [================>.............] - ETA: 0s - loss: 0.1583 - accuracy: 0.9373\n",
            "Epoch 00070: saving model to model/keypoint_classifier\\keypoint_classifier.hdf5\n",
            "75/75 [==============================] - 0s 2ms/step - loss: 0.1535 - accuracy: 0.9424 - val_loss: 0.1275 - val_accuracy: 0.9460\n",
            "Epoch 71/1000\n",
            "54/75 [====================>.........] - ETA: 0s - loss: 0.1463 - accuracy: 0.9491\n",
            "Epoch 00071: saving model to model/keypoint_classifier\\keypoint_classifier.hdf5\n",
            "75/75 [==============================] - 0s 2ms/step - loss: 0.1510 - accuracy: 0.9445 - val_loss: 0.0928 - val_accuracy: 0.9690\n",
            "Epoch 72/1000\n",
            "42/75 [===============>..............] - ETA: 0s - loss: 0.1698 - accuracy: 0.9377\n",
            "Epoch 00072: saving model to model/keypoint_classifier\\keypoint_classifier.hdf5\n",
            "75/75 [==============================] - 0s 2ms/step - loss: 0.1593 - accuracy: 0.9423 - val_loss: 0.1076 - val_accuracy: 0.9606\n",
            "Epoch 73/1000\n",
            "43/75 [================>.............] - ETA: 0s - loss: 0.1477 - accuracy: 0.9473\n",
            "Epoch 00073: saving model to model/keypoint_classifier\\keypoint_classifier.hdf5\n",
            "75/75 [==============================] - 0s 2ms/step - loss: 0.1481 - accuracy: 0.9477 - val_loss: 0.0828 - val_accuracy: 0.9753\n",
            "Epoch 74/1000\n",
            "42/75 [===============>..............] - ETA: 0s - loss: 0.1551 - accuracy: 0.9436\n",
            "Epoch 00074: saving model to model/keypoint_classifier\\keypoint_classifier.hdf5\n",
            "75/75 [==============================] - 0s 2ms/step - loss: 0.1638 - accuracy: 0.9405 - val_loss: 0.0896 - val_accuracy: 0.9715\n",
            "Epoch 75/1000\n",
            "43/75 [================>.............] - ETA: 0s - loss: 0.1430 - accuracy: 0.9477\n",
            "Epoch 00075: saving model to model/keypoint_classifier\\keypoint_classifier.hdf5\n",
            "75/75 [==============================] - 0s 2ms/step - loss: 0.1551 - accuracy: 0.9438 - val_loss: 0.1871 - val_accuracy: 0.9259\n",
            "Epoch 76/1000\n",
            "42/75 [===============>..............] - ETA: 0s - loss: 0.1589 - accuracy: 0.9423\n",
            "Epoch 00076: saving model to model/keypoint_classifier\\keypoint_classifier.hdf5\n",
            "75/75 [==============================] - 0s 2ms/step - loss: 0.1522 - accuracy: 0.9441 - val_loss: 0.0916 - val_accuracy: 0.9682\n",
            "Epoch 77/1000\n",
            "44/75 [================>.............] - ETA: 0s - loss: 0.1450 - accuracy: 0.9432\n",
            "Epoch 00077: saving model to model/keypoint_classifier\\keypoint_classifier.hdf5\n",
            "75/75 [==============================] - 0s 2ms/step - loss: 0.1500 - accuracy: 0.9424 - val_loss: 0.0952 - val_accuracy: 0.9682\n",
            "Epoch 78/1000\n",
            "51/75 [===================>..........] - ETA: 0s - loss: 0.1651 - accuracy: 0.9398\n",
            "Epoch 00078: saving model to model/keypoint_classifier\\keypoint_classifier.hdf5\n",
            "75/75 [==============================] - 0s 2ms/step - loss: 0.1649 - accuracy: 0.9404 - val_loss: 0.0884 - val_accuracy: 0.9732\n",
            "Epoch 79/1000\n",
            "42/75 [===============>..............] - ETA: 0s - loss: 0.1587 - accuracy: 0.9420\n",
            "Epoch 00079: saving model to model/keypoint_classifier\\keypoint_classifier.hdf5\n",
            "75/75 [==============================] - 0s 2ms/step - loss: 0.1493 - accuracy: 0.9466 - val_loss: 0.0832 - val_accuracy: 0.9707\n",
            "Epoch 80/1000\n",
            "46/75 [=================>............] - ETA: 0s - loss: 0.1317 - accuracy: 0.9513\n",
            "Epoch 00080: saving model to model/keypoint_classifier\\keypoint_classifier.hdf5\n",
            "75/75 [==============================] - 0s 2ms/step - loss: 0.1386 - accuracy: 0.9486 - val_loss: 0.0859 - val_accuracy: 0.9719\n",
            "Epoch 81/1000\n",
            "44/75 [================>.............] - ETA: 0s - loss: 0.1317 - accuracy: 0.9521\n",
            "Epoch 00081: saving model to model/keypoint_classifier\\keypoint_classifier.hdf5\n",
            "75/75 [==============================] - 0s 2ms/step - loss: 0.1396 - accuracy: 0.9487 - val_loss: 0.0786 - val_accuracy: 0.9740\n",
            "Epoch 82/1000\n",
            "49/75 [==================>...........] - ETA: 0s - loss: 0.1385 - accuracy: 0.9496\n",
            "Epoch 00082: saving model to model/keypoint_classifier\\keypoint_classifier.hdf5\n",
            "75/75 [==============================] - 0s 2ms/step - loss: 0.1413 - accuracy: 0.9480 - val_loss: 0.0988 - val_accuracy: 0.9703\n",
            "Epoch 83/1000\n",
            "44/75 [================>.............] - ETA: 0s - loss: 0.1442 - accuracy: 0.9474\n",
            "Epoch 00083: saving model to model/keypoint_classifier\\keypoint_classifier.hdf5\n",
            "75/75 [==============================] - 0s 2ms/step - loss: 0.1438 - accuracy: 0.9467 - val_loss: 0.0778 - val_accuracy: 0.9753\n",
            "Epoch 84/1000\n",
            "44/75 [================>.............] - ETA: 0s - loss: 0.1428 - accuracy: 0.9474\n",
            "Epoch 00084: saving model to model/keypoint_classifier\\keypoint_classifier.hdf5\n",
            "75/75 [==============================] - 0s 2ms/step - loss: 0.1488 - accuracy: 0.9455 - val_loss: 0.0796 - val_accuracy: 0.9765\n",
            "Epoch 85/1000\n",
            "44/75 [================>.............] - ETA: 0s - loss: 0.1349 - accuracy: 0.9515\n",
            "Epoch 00085: saving model to model/keypoint_classifier\\keypoint_classifier.hdf5\n",
            "75/75 [==============================] - 0s 2ms/step - loss: 0.1427 - accuracy: 0.9482 - val_loss: 0.0868 - val_accuracy: 0.9707\n",
            "Epoch 86/1000\n",
            "43/75 [================>.............] - ETA: 0s - loss: 0.1339 - accuracy: 0.9489\n",
            "Epoch 00086: saving model to model/keypoint_classifier\\keypoint_classifier.hdf5\n",
            "75/75 [==============================] - 0s 2ms/step - loss: 0.1350 - accuracy: 0.9493 - val_loss: 0.0787 - val_accuracy: 0.9724\n",
            "Epoch 87/1000\n",
            "42/75 [===============>..............] - ETA: 0s - loss: 0.1638 - accuracy: 0.9377\n",
            "Epoch 00087: saving model to model/keypoint_classifier\\keypoint_classifier.hdf5\n",
            "75/75 [==============================] - 0s 2ms/step - loss: 0.1501 - accuracy: 0.9420 - val_loss: 0.0799 - val_accuracy: 0.9740\n",
            "Epoch 88/1000\n",
            "44/75 [================>.............] - ETA: 0s - loss: 0.1350 - accuracy: 0.9533\n",
            "Epoch 00088: saving model to model/keypoint_classifier\\keypoint_classifier.hdf5\n",
            "75/75 [==============================] - 0s 2ms/step - loss: 0.1418 - accuracy: 0.9482 - val_loss: 0.1016 - val_accuracy: 0.9669\n",
            "Epoch 89/1000\n",
            "42/75 [===============>..............] - ETA: 0s - loss: 0.1397 - accuracy: 0.9485\n",
            "Epoch 00089: saving model to model/keypoint_classifier\\keypoint_classifier.hdf5\n",
            "75/75 [==============================] - 0s 2ms/step - loss: 0.1567 - accuracy: 0.9432 - val_loss: 0.0756 - val_accuracy: 0.9745\n",
            "Epoch 90/1000\n",
            "40/75 [===============>..............] - ETA: 0s - loss: 0.1395 - accuracy: 0.9482\n",
            "Epoch 00090: saving model to model/keypoint_classifier\\keypoint_classifier.hdf5\n",
            "75/75 [==============================] - 0s 2ms/step - loss: 0.1364 - accuracy: 0.9513 - val_loss: 0.0808 - val_accuracy: 0.9686\n",
            "Epoch 91/1000\n",
            "43/75 [================>.............] - ETA: 0s - loss: 0.1263 - accuracy: 0.9564\n",
            "Epoch 00091: saving model to model/keypoint_classifier\\keypoint_classifier.hdf5\n",
            "75/75 [==============================] - 0s 2ms/step - loss: 0.1330 - accuracy: 0.9539 - val_loss: 0.0719 - val_accuracy: 0.9761\n",
            "Epoch 92/1000\n",
            "41/75 [===============>..............] - ETA: 0s - loss: 0.1491 - accuracy: 0.9449\n",
            "Epoch 00092: saving model to model/keypoint_classifier\\keypoint_classifier.hdf5\n",
            "75/75 [==============================] - 0s 2ms/step - loss: 0.1512 - accuracy: 0.9427 - val_loss: 0.0867 - val_accuracy: 0.9715\n",
            "Epoch 93/1000\n",
            "42/75 [===============>..............] - ETA: 0s - loss: 0.1354 - accuracy: 0.9507\n",
            "Epoch 00093: saving model to model/keypoint_classifier\\keypoint_classifier.hdf5\n",
            "75/75 [==============================] - 0s 2ms/step - loss: 0.1378 - accuracy: 0.9472 - val_loss: 0.0913 - val_accuracy: 0.9682\n",
            "Epoch 94/1000\n",
            "43/75 [================>.............] - ETA: 0s - loss: 0.1466 - accuracy: 0.9479\n",
            "Epoch 00094: saving model to model/keypoint_classifier\\keypoint_classifier.hdf5\n",
            "75/75 [==============================] - 0s 2ms/step - loss: 0.1412 - accuracy: 0.9485 - val_loss: 0.0716 - val_accuracy: 0.9740\n",
            "Epoch 95/1000\n",
            "41/75 [===============>..............] - ETA: 0s - loss: 0.1381 - accuracy: 0.9484\n",
            "Epoch 00095: saving model to model/keypoint_classifier\\keypoint_classifier.hdf5\n",
            "75/75 [==============================] - 0s 2ms/step - loss: 0.1327 - accuracy: 0.9511 - val_loss: 0.0722 - val_accuracy: 0.9770\n",
            "Epoch 96/1000\n",
            "44/75 [================>.............] - ETA: 0s - loss: 0.1284 - accuracy: 0.9512\n",
            "Epoch 00096: saving model to model/keypoint_classifier\\keypoint_classifier.hdf5\n",
            "75/75 [==============================] - 0s 2ms/step - loss: 0.1341 - accuracy: 0.9492 - val_loss: 0.0812 - val_accuracy: 0.9711\n",
            "Epoch 97/1000\n",
            "49/75 [==================>...........] - ETA: 0s - loss: 0.1643 - accuracy: 0.9372\n",
            "Epoch 00097: saving model to model/keypoint_classifier\\keypoint_classifier.hdf5\n",
            "75/75 [==============================] - 0s 2ms/step - loss: 0.1507 - accuracy: 0.9448 - val_loss: 0.0721 - val_accuracy: 0.9753\n",
            "Epoch 98/1000\n",
            "44/75 [================>.............] - ETA: 0s - loss: 0.1428 - accuracy: 0.9469\n",
            "Epoch 00098: saving model to model/keypoint_classifier\\keypoint_classifier.hdf5\n",
            "75/75 [==============================] - 0s 2ms/step - loss: 0.1496 - accuracy: 0.9438 - val_loss: 0.1018 - val_accuracy: 0.9619\n",
            "Epoch 99/1000\n",
            "43/75 [================>.............] - ETA: 0s - loss: 0.1421 - accuracy: 0.9486\n",
            "Epoch 00099: saving model to model/keypoint_classifier\\keypoint_classifier.hdf5\n",
            "75/75 [==============================] - 0s 2ms/step - loss: 0.1388 - accuracy: 0.9481 - val_loss: 0.0712 - val_accuracy: 0.9761\n",
            "Epoch 100/1000\n",
            "42/75 [===============>..............] - ETA: 0s - loss: 0.1319 - accuracy: 0.9529\n",
            "Epoch 00100: saving model to model/keypoint_classifier\\keypoint_classifier.hdf5\n",
            "75/75 [==============================] - 0s 2ms/step - loss: 0.1297 - accuracy: 0.9520 - val_loss: 0.0740 - val_accuracy: 0.9707\n",
            "Epoch 101/1000\n",
            "49/75 [==================>...........] - ETA: 0s - loss: 0.1482 - accuracy: 0.9450\n",
            "Epoch 00101: saving model to model/keypoint_classifier\\keypoint_classifier.hdf5\n",
            "75/75 [==============================] - 0s 2ms/step - loss: 0.1359 - accuracy: 0.9498 - val_loss: 0.0763 - val_accuracy: 0.9745\n",
            "Epoch 102/1000\n",
            "40/75 [===============>..............] - ETA: 0s - loss: 0.1368 - accuracy: 0.9508\n",
            "Epoch 00102: saving model to model/keypoint_classifier\\keypoint_classifier.hdf5\n",
            "75/75 [==============================] - 0s 2ms/step - loss: 0.1396 - accuracy: 0.9477 - val_loss: 0.0782 - val_accuracy: 0.9740\n",
            "Epoch 103/1000\n",
            "43/75 [================>.............] - ETA: 0s - loss: 0.1263 - accuracy: 0.9529\n",
            "Epoch 00103: saving model to model/keypoint_classifier\\keypoint_classifier.hdf5\n",
            "75/75 [==============================] - 0s 2ms/step - loss: 0.1350 - accuracy: 0.9486 - val_loss: 0.0750 - val_accuracy: 0.9749\n",
            "Epoch 104/1000\n",
            "69/75 [==========================>...] - ETA: 0s - loss: 0.1268 - accuracy: 0.9530\n",
            "Epoch 00104: saving model to model/keypoint_classifier\\keypoint_classifier.hdf5\n",
            "75/75 [==============================] - 0s 2ms/step - loss: 0.1291 - accuracy: 0.9518 - val_loss: 0.0700 - val_accuracy: 0.9753\n",
            "Epoch 105/1000\n",
            "49/75 [==================>...........] - ETA: 0s - loss: 0.1282 - accuracy: 0.9515\n",
            "Epoch 00105: saving model to model/keypoint_classifier\\keypoint_classifier.hdf5\n",
            "75/75 [==============================] - 0s 2ms/step - loss: 0.1308 - accuracy: 0.9511 - val_loss: 0.0748 - val_accuracy: 0.9732\n",
            "Epoch 106/1000\n",
            "43/75 [================>.............] - ETA: 0s - loss: 0.1283 - accuracy: 0.9544\n",
            "Epoch 00106: saving model to model/keypoint_classifier\\keypoint_classifier.hdf5\n",
            "75/75 [==============================] - 0s 2ms/step - loss: 0.1276 - accuracy: 0.9553 - val_loss: 0.0712 - val_accuracy: 0.9791\n",
            "Epoch 107/1000\n",
            "42/75 [===============>..............] - ETA: 0s - loss: 0.1421 - accuracy: 0.9457\n",
            "Epoch 00107: saving model to model/keypoint_classifier\\keypoint_classifier.hdf5\n",
            "75/75 [==============================] - 0s 2ms/step - loss: 0.1329 - accuracy: 0.9502 - val_loss: 0.0676 - val_accuracy: 0.9774\n",
            "Epoch 108/1000\n",
            "42/75 [===============>..............] - ETA: 0s - loss: 0.1395 - accuracy: 0.9475\n",
            "Epoch 00108: saving model to model/keypoint_classifier\\keypoint_classifier.hdf5\n",
            "75/75 [==============================] - 0s 2ms/step - loss: 0.1332 - accuracy: 0.9508 - val_loss: 0.0651 - val_accuracy: 0.9778\n",
            "Epoch 109/1000\n",
            "43/75 [================>.............] - ETA: 0s - loss: 0.1343 - accuracy: 0.9520\n",
            "Epoch 00109: saving model to model/keypoint_classifier\\keypoint_classifier.hdf5\n",
            "75/75 [==============================] - 0s 2ms/step - loss: 0.1376 - accuracy: 0.9507 - val_loss: 0.0707 - val_accuracy: 0.9791\n",
            "Epoch 110/1000\n",
            "43/75 [================>.............] - ETA: 0s - loss: 0.1364 - accuracy: 0.9511\n",
            "Epoch 00110: saving model to model/keypoint_classifier\\keypoint_classifier.hdf5\n",
            "75/75 [==============================] - 0s 2ms/step - loss: 0.1262 - accuracy: 0.9529 - val_loss: 0.0818 - val_accuracy: 0.9690\n",
            "Epoch 111/1000\n",
            "50/75 [===================>..........] - ETA: 0s - loss: 0.1314 - accuracy: 0.9506\n",
            "Epoch 00111: saving model to model/keypoint_classifier\\keypoint_classifier.hdf5\n",
            "75/75 [==============================] - 0s 2ms/step - loss: 0.1325 - accuracy: 0.9522 - val_loss: 0.0959 - val_accuracy: 0.9585\n",
            "Epoch 112/1000\n",
            "50/75 [===================>..........] - ETA: 0s - loss: 0.1265 - accuracy: 0.9542\n",
            "Epoch 00112: saving model to model/keypoint_classifier\\keypoint_classifier.hdf5\n",
            "75/75 [==============================] - 0s 2ms/step - loss: 0.1266 - accuracy: 0.9535 - val_loss: 0.0721 - val_accuracy: 0.9765\n",
            "Epoch 113/1000\n",
            "44/75 [================>.............] - ETA: 0s - loss: 0.1268 - accuracy: 0.9547\n",
            "Epoch 00113: saving model to model/keypoint_classifier\\keypoint_classifier.hdf5\n",
            "75/75 [==============================] - 0s 2ms/step - loss: 0.1386 - accuracy: 0.9498 - val_loss: 0.0681 - val_accuracy: 0.9782\n",
            "Epoch 114/1000\n",
            "42/75 [===============>..............] - ETA: 0s - loss: 0.1278 - accuracy: 0.9516\n",
            "Epoch 00114: saving model to model/keypoint_classifier\\keypoint_classifier.hdf5\n",
            "75/75 [==============================] - 0s 2ms/step - loss: 0.1287 - accuracy: 0.9527 - val_loss: 0.0691 - val_accuracy: 0.9761\n",
            "Epoch 115/1000\n",
            "42/75 [===============>..............] - ETA: 0s - loss: 0.1236 - accuracy: 0.9537\n",
            "Epoch 00115: saving model to model/keypoint_classifier\\keypoint_classifier.hdf5\n",
            "75/75 [==============================] - 0s 2ms/step - loss: 0.1294 - accuracy: 0.9516 - val_loss: 0.0816 - val_accuracy: 0.9728\n",
            "Epoch 116/1000\n",
            "42/75 [===============>..............] - ETA: 0s - loss: 0.1280 - accuracy: 0.9552\n",
            "Epoch 00116: saving model to model/keypoint_classifier\\keypoint_classifier.hdf5\n",
            "75/75 [==============================] - 0s 2ms/step - loss: 0.1292 - accuracy: 0.9532 - val_loss: 0.0842 - val_accuracy: 0.9686\n",
            "Epoch 117/1000\n",
            "43/75 [================>.............] - ETA: 0s - loss: 0.1286 - accuracy: 0.9562\n",
            "Epoch 00117: saving model to model/keypoint_classifier\\keypoint_classifier.hdf5\n",
            "75/75 [==============================] - 0s 2ms/step - loss: 0.1316 - accuracy: 0.9522 - val_loss: 0.1010 - val_accuracy: 0.9615\n",
            "Epoch 118/1000\n",
            "50/75 [===================>..........] - ETA: 0s - loss: 0.1441 - accuracy: 0.9469\n",
            "Epoch 00118: saving model to model/keypoint_classifier\\keypoint_classifier.hdf5\n",
            "75/75 [==============================] - 0s 2ms/step - loss: 0.1407 - accuracy: 0.9487 - val_loss: 0.0990 - val_accuracy: 0.9627\n",
            "Epoch 119/1000\n",
            "43/75 [================>.............] - ETA: 0s - loss: 0.1360 - accuracy: 0.9495\n",
            "Epoch 00119: saving model to model/keypoint_classifier\\keypoint_classifier.hdf5\n",
            "75/75 [==============================] - 0s 2ms/step - loss: 0.1359 - accuracy: 0.9497 - val_loss: 0.0690 - val_accuracy: 0.9782\n",
            "Epoch 120/1000\n",
            "43/75 [================>.............] - ETA: 0s - loss: 0.1148 - accuracy: 0.9566\n",
            "Epoch 00120: saving model to model/keypoint_classifier\\keypoint_classifier.hdf5\n",
            "75/75 [==============================] - 0s 2ms/step - loss: 0.1186 - accuracy: 0.9560 - val_loss: 0.0740 - val_accuracy: 0.9740\n",
            "Epoch 121/1000\n",
            "42/75 [===============>..............] - ETA: 0s - loss: 0.1315 - accuracy: 0.9509\n",
            "Epoch 00121: saving model to model/keypoint_classifier\\keypoint_classifier.hdf5\n",
            "75/75 [==============================] - 0s 2ms/step - loss: 0.1271 - accuracy: 0.9511 - val_loss: 0.0754 - val_accuracy: 0.9761\n",
            "Epoch 122/1000\n",
            "50/75 [===================>..........] - ETA: 0s - loss: 0.1198 - accuracy: 0.9548\n",
            "Epoch 00122: saving model to model/keypoint_classifier\\keypoint_classifier.hdf5\n",
            "75/75 [==============================] - 0s 2ms/step - loss: 0.1226 - accuracy: 0.9532 - val_loss: 0.0743 - val_accuracy: 0.9745\n",
            "Epoch 123/1000\n",
            "42/75 [===============>..............] - ETA: 0s - loss: 0.1221 - accuracy: 0.9572\n",
            "Epoch 00123: saving model to model/keypoint_classifier\\keypoint_classifier.hdf5\n",
            "75/75 [==============================] - 0s 2ms/step - loss: 0.1263 - accuracy: 0.9541 - val_loss: 0.0615 - val_accuracy: 0.9799\n",
            "Epoch 124/1000\n",
            "42/75 [===============>..............] - ETA: 0s - loss: 0.1180 - accuracy: 0.9544\n",
            "Epoch 00124: saving model to model/keypoint_classifier\\keypoint_classifier.hdf5\n",
            "75/75 [==============================] - 0s 2ms/step - loss: 0.1153 - accuracy: 0.9574 - val_loss: 0.0665 - val_accuracy: 0.9786\n",
            "Epoch 125/1000\n",
            "49/75 [==================>...........] - ETA: 0s - loss: 0.1278 - accuracy: 0.9511\n",
            "Epoch 00125: saving model to model/keypoint_classifier\\keypoint_classifier.hdf5\n",
            "75/75 [==============================] - 0s 2ms/step - loss: 0.1338 - accuracy: 0.9499 - val_loss: 0.0657 - val_accuracy: 0.9774\n",
            "Epoch 126/1000\n",
            "41/75 [===============>..............] - ETA: 0s - loss: 0.1167 - accuracy: 0.9588\n",
            "Epoch 00126: saving model to model/keypoint_classifier\\keypoint_classifier.hdf5\n",
            "75/75 [==============================] - 0s 2ms/step - loss: 0.1206 - accuracy: 0.9569 - val_loss: 0.1068 - val_accuracy: 0.9569\n",
            "Epoch 127/1000\n",
            "42/75 [===============>..............] - ETA: 0s - loss: 0.1431 - accuracy: 0.9451\n",
            "Epoch 00127: saving model to model/keypoint_classifier\\keypoint_classifier.hdf5\n",
            "75/75 [==============================] - 0s 2ms/step - loss: 0.1336 - accuracy: 0.9496 - val_loss: 0.0645 - val_accuracy: 0.9795\n",
            "Epoch 128/1000\n",
            "43/75 [================>.............] - ETA: 0s - loss: 0.1178 - accuracy: 0.9551\n",
            "Epoch 00128: saving model to model/keypoint_classifier\\keypoint_classifier.hdf5\n",
            "75/75 [==============================] - 0s 2ms/step - loss: 0.1191 - accuracy: 0.9561 - val_loss: 0.0666 - val_accuracy: 0.9795\n",
            "Epoch 129/1000\n",
            "43/75 [================>.............] - ETA: 0s - loss: 0.1264 - accuracy: 0.9511\n",
            "Epoch 00129: saving model to model/keypoint_classifier\\keypoint_classifier.hdf5\n",
            "75/75 [==============================] - 0s 2ms/step - loss: 0.1304 - accuracy: 0.9506 - val_loss: 0.0641 - val_accuracy: 0.9786\n",
            "Epoch 130/1000\n",
            "48/75 [==================>...........] - ETA: 0s - loss: 0.1311 - accuracy: 0.9510\n",
            "Epoch 00130: saving model to model/keypoint_classifier\\keypoint_classifier.hdf5\n",
            "75/75 [==============================] - 0s 2ms/step - loss: 0.1368 - accuracy: 0.9484 - val_loss: 0.0657 - val_accuracy: 0.9807\n",
            "Epoch 131/1000\n",
            "43/75 [================>.............] - ETA: 0s - loss: 0.1299 - accuracy: 0.9509\n",
            "Epoch 00131: saving model to model/keypoint_classifier\\keypoint_classifier.hdf5\n",
            "75/75 [==============================] - 0s 2ms/step - loss: 0.1256 - accuracy: 0.9527 - val_loss: 0.0747 - val_accuracy: 0.9728\n",
            "Epoch 132/1000\n",
            "40/75 [===============>..............] - ETA: 0s - loss: 0.1308 - accuracy: 0.9535\n",
            "Epoch 00132: saving model to model/keypoint_classifier\\keypoint_classifier.hdf5\n",
            "75/75 [==============================] - 0s 2ms/step - loss: 0.1300 - accuracy: 0.9521 - val_loss: 0.0735 - val_accuracy: 0.9711\n",
            "Epoch 133/1000\n",
            "42/75 [===============>..............] - ETA: 0s - loss: 0.1232 - accuracy: 0.9589\n",
            "Epoch 00133: saving model to model/keypoint_classifier\\keypoint_classifier.hdf5\n",
            "75/75 [==============================] - 0s 2ms/step - loss: 0.1209 - accuracy: 0.9579 - val_loss: 0.0621 - val_accuracy: 0.9799\n",
            "Epoch 134/1000\n",
            "50/75 [===================>..........] - ETA: 0s - loss: 0.1347 - accuracy: 0.9492\n",
            "Epoch 00134: saving model to model/keypoint_classifier\\keypoint_classifier.hdf5\n",
            "75/75 [==============================] - 0s 2ms/step - loss: 0.1318 - accuracy: 0.9513 - val_loss: 0.0727 - val_accuracy: 0.9774\n",
            "Epoch 135/1000\n",
            "43/75 [================>.............] - ETA: 0s - loss: 0.1256 - accuracy: 0.9544\n",
            "Epoch 00135: saving model to model/keypoint_classifier\\keypoint_classifier.hdf5\n",
            "75/75 [==============================] - 0s 2ms/step - loss: 0.1323 - accuracy: 0.9525 - val_loss: 0.0853 - val_accuracy: 0.9728\n",
            "Epoch 136/1000\n",
            "41/75 [===============>..............] - ETA: 0s - loss: 0.1250 - accuracy: 0.9566\n",
            "Epoch 00136: saving model to model/keypoint_classifier\\keypoint_classifier.hdf5\n",
            "75/75 [==============================] - 0s 2ms/step - loss: 0.1294 - accuracy: 0.9515 - val_loss: 0.0690 - val_accuracy: 0.9765\n",
            "Epoch 137/1000\n",
            "51/75 [===================>..........] - ETA: 0s - loss: 0.1275 - accuracy: 0.9531\n",
            "Epoch 00137: saving model to model/keypoint_classifier\\keypoint_classifier.hdf5\n",
            "75/75 [==============================] - 0s 2ms/step - loss: 0.1302 - accuracy: 0.9512 - val_loss: 0.0860 - val_accuracy: 0.9661\n",
            "Epoch 138/1000\n",
            "45/75 [=================>............] - ETA: 0s - loss: 0.1287 - accuracy: 0.9514\n",
            "Epoch 00138: saving model to model/keypoint_classifier\\keypoint_classifier.hdf5\n",
            "75/75 [==============================] - 0s 2ms/step - loss: 0.1211 - accuracy: 0.9548 - val_loss: 0.0676 - val_accuracy: 0.9757\n",
            "Epoch 139/1000\n",
            "44/75 [================>.............] - ETA: 0s - loss: 0.1138 - accuracy: 0.9608\n",
            "Epoch 00139: saving model to model/keypoint_classifier\\keypoint_classifier.hdf5\n",
            "75/75 [==============================] - 0s 2ms/step - loss: 0.1265 - accuracy: 0.9549 - val_loss: 0.0723 - val_accuracy: 0.9765\n",
            "Epoch 140/1000\n",
            "43/75 [================>.............] - ETA: 0s - loss: 0.1297 - accuracy: 0.9528\n",
            "Epoch 00140: saving model to model/keypoint_classifier\\keypoint_classifier.hdf5\n",
            "75/75 [==============================] - 0s 2ms/step - loss: 0.1168 - accuracy: 0.9573 - val_loss: 0.0635 - val_accuracy: 0.9778\n",
            "Epoch 141/1000\n",
            "42/75 [===============>..............] - ETA: 0s - loss: 0.1082 - accuracy: 0.9589\n",
            "Epoch 00141: saving model to model/keypoint_classifier\\keypoint_classifier.hdf5\n",
            "75/75 [==============================] - 0s 2ms/step - loss: 0.1201 - accuracy: 0.9556 - val_loss: 0.0982 - val_accuracy: 0.9611\n",
            "Epoch 142/1000\n",
            "42/75 [===============>..............] - ETA: 0s - loss: 0.1299 - accuracy: 0.9490\n",
            "Epoch 00142: saving model to model/keypoint_classifier\\keypoint_classifier.hdf5\n",
            "75/75 [==============================] - 0s 2ms/step - loss: 0.1251 - accuracy: 0.9519 - val_loss: 0.0624 - val_accuracy: 0.9824\n",
            "Epoch 143/1000\n",
            "43/75 [================>.............] - ETA: 0s - loss: 0.1231 - accuracy: 0.9531\n",
            "Epoch 00143: saving model to model/keypoint_classifier\\keypoint_classifier.hdf5\n",
            "75/75 [==============================] - 0s 2ms/step - loss: 0.1150 - accuracy: 0.9564 - val_loss: 0.0659 - val_accuracy: 0.9774\n",
            "Epoch 00143: early stopping\n"
          ]
        },
        {
          "data": {
            "text/plain": [
              "<keras.callbacks.History at 0x14e82dfc2e0>"
            ]
          },
          "execution_count": 746,
          "metadata": {},
          "output_type": "execute_result"
        }
      ],
      "source": [
        "model.fit(\n",
        "    X_train,\n",
        "    y_train,\n",
        "    epochs=1000,\n",
        "    batch_size=128,\n",
        "    validation_data=(X_test, y_test),\n",
        "    callbacks=[cp_callback, es_callback]\n",
        ")"
      ]
    },
    {
      "cell_type": "code",
      "execution_count": 747,
      "metadata": {
        "colab": {
          "base_uri": "https://localhost:8080/"
        },
        "id": "pxvb2Y299hE3",
        "outputId": "59eb3185-2e37-4b9e-bc9d-ab1b8ac29b7f"
      },
      "outputs": [
        {
          "name": "stdout",
          "output_type": "stream",
          "text": [
            "19/19 [==============================] - 0s 777us/step - loss: 0.0659 - accuracy: 0.9774\n"
          ]
        }
      ],
      "source": [
        "# Model evaluation\n",
        "val_loss, val_acc = model.evaluate(X_test, y_test, batch_size=128)"
      ]
    },
    {
      "cell_type": "code",
      "execution_count": 748,
      "metadata": {
        "id": "RBkmDeUW9hE4"
      },
      "outputs": [],
      "source": [
        "# Loading the saved model\n",
        "model = tf.keras.models.load_model(model_save_path)"
      ]
    },
    {
      "cell_type": "code",
      "execution_count": 749,
      "metadata": {
        "colab": {
          "base_uri": "https://localhost:8080/"
        },
        "id": "tFz9Tb0I9hE4",
        "outputId": "1c3b3528-54ae-4ee2-ab04-77429211cbef"
      },
      "outputs": [
        {
          "name": "stdout",
          "output_type": "stream",
          "text": [
            "[4.8647752e-10 1.0000000e+00 4.4540444e-15 1.1016403e-18 8.2022105e-09]\n",
            "1\n"
          ]
        }
      ],
      "source": [
        "# Inference test\n",
        "predict_result = model.predict(np.array([X_test[0]]))\n",
        "print(np.squeeze(predict_result))\n",
        "print(np.argmax(np.squeeze(predict_result)))"
      ]
    },
    {
      "cell_type": "markdown",
      "metadata": {
        "id": "S3U4yNWx9hE4"
      },
      "source": [
        "# Confusion matrix"
      ]
    },
    {
      "cell_type": "code",
      "execution_count": 750,
      "metadata": {
        "colab": {
          "base_uri": "https://localhost:8080/",
          "height": 582
        },
        "id": "AP1V6SCk9hE5",
        "outputId": "08e41a80-7a4a-4619-8125-ecc371368d19"
      },
      "outputs": [
        {
          "data": {
            "image/png": "[encoded data removed]",
            "text/plain": [
              "<Figure size 504x432 with 2 Axes>"
            ]
          },
          "metadata": {
            "needs_background": "light"
          },
          "output_type": "display_data"
        },
        {
          "name": "stdout",
          "output_type": "stream",
          "text": [
            "Classification Report\n",
            "              precision    recall  f1-score   support\n",
            "\n",
            "           0       0.99      0.91      0.95       515\n",
            "           1       1.00      1.00      1.00       602\n",
            "           2       0.98      1.00      0.99       432\n",
            "           3       0.99      1.00      1.00       450\n",
            "           4       0.92      0.98      0.95       389\n",
            "\n",
            "    accuracy                           0.98      2388\n",
            "   macro avg       0.98      0.98      0.98      2388\n",
            "weighted avg       0.98      0.98      0.98      2388\n",
            "\n"
          ]
        }
      ],
      "source": [
        "import pandas as pd\n",
        "import seaborn as sns\n",
        "import matplotlib.pyplot as plt\n",
        "from sklearn.metrics import confusion_matrix, classification_report\n",
        "\n",
        "def print_confusion_matrix(y_true, y_pred, report=True):\n",
        "    labels = sorted(list(set(y_true)))\n",
        "    cmx_data = confusion_matrix(y_true, y_pred, labels=labels)\n",
        "    \n",
        "    df_cmx = pd.DataFrame(cmx_data, index=labels, columns=labels)\n",
        " \n",
        "    fig, ax = plt.subplots(figsize=(7, 6))\n",
        "    sns.heatmap(df_cmx, annot=True, fmt='g' ,square=False)\n",
        "    ax.set_ylim(len(set(y_true)), 0)\n",
        "    plt.show()\n",
        "    \n",
        "    if report:\n",
        "        print('Classification Report')\n",
        "        print(classification_report(y_test, y_pred))\n",
        "\n",
        "Y_pred = model.predict(X_test)\n",
        "y_pred = np.argmax(Y_pred, axis=1)\n",
        "\n",
        "print_confusion_matrix(y_test, y_pred)"
      ]
    },
    {
      "cell_type": "markdown",
      "metadata": {
        "id": "FNP6aqzc9hE5"
      },
      "source": [
        "# Convert to model for Tensorflow-Lite"
      ]
    },
    {
      "cell_type": "code",
      "execution_count": 751,
      "metadata": {
        "id": "ODjnYyld9hE6"
      },
      "outputs": [],
      "source": [
        "# Save as a model dedicated to inference\n",
        "model.save(model_save_path, include_optimizer=False)"
      ]
    },
    {
      "cell_type": "code",
      "execution_count": 752,
      "metadata": {
        "colab": {
          "base_uri": "https://localhost:8080/"
        },
        "id": "zRfuK8Y59hE6",
        "outputId": "a4ca585c-b5d5-4244-8291-8674063209bb"
      },
      "outputs": [
        {
          "name": "stdout",
          "output_type": "stream",
          "text": [
            "INFO:tensorflow:Assets written to: C:\\Users\\Ratta\\AppData\\Local\\Temp\\tmpe31ea_65\\assets\n"
          ]
        },
        {
          "name": "stderr",
          "output_type": "stream",
          "text": [
            "INFO:tensorflow:Assets written to: C:\\Users\\Ratta\\AppData\\Local\\Temp\\tmpe31ea_65\\assets\n"
          ]
        },
        {
          "data": {
            "text/plain": [
              "22432"
            ]
          },
          "execution_count": 752,
          "metadata": {},
          "output_type": "execute_result"
        }
      ],
      "source": [
        "# Transform model (quantization)\n",
        "\n",
        "converter = tf.lite.TFLiteConverter.from_keras_model(model)\n",
        "converter.optimizations = [tf.lite.Optimize.DEFAULT]\n",
        "tflite_quantized_model = converter.convert()\n",
        "\n",
        "open(tflite_save_path, 'wb').write(tflite_quantized_model)"
      ]
    },
    {
      "cell_type": "markdown",
      "metadata": {
        "id": "CHBPBXdx9hE6"
      },
      "source": [
        "# Inference test"
      ]
    },
    {
      "cell_type": "code",
      "execution_count": 753,
      "metadata": {
        "id": "mGAzLocO9hE7"
      },
      "outputs": [],
      "source": [
        "interpreter = tf.lite.Interpreter(model_path=tflite_save_path)\n",
        "interpreter.allocate_tensors()"
      ]
    },
    {
      "cell_type": "code",
      "execution_count": 754,
      "metadata": {
        "id": "oQuDK8YS9hE7"
      },
      "outputs": [],
      "source": [
        "# Get I / O tensor\n",
        "input_details = interpreter.get_input_details()\n",
        "output_details = interpreter.get_output_details()"
      ]
    },
    {
      "cell_type": "code",
      "execution_count": 755,
      "metadata": {
        "id": "2_ixAf_l9hE7"
      },
      "outputs": [],
      "source": [
        "interpreter.set_tensor(input_details[0]['index'], np.array([X_test[0]]))"
      ]
    },
    {
      "cell_type": "markdown",
      "metadata": {},
      "source": []
    },
    {
      "cell_type": "code",
      "execution_count": 756,
      "metadata": {
        "colab": {
          "base_uri": "https://localhost:8080/"
        },
        "id": "s4FoAnuc9hE7",
        "outputId": "91f18257-8d8b-4ef3-c558-e9b5f94fabbf",
        "scrolled": true
      },
      "outputs": [
        {
          "name": "stdout",
          "output_type": "stream",
          "text": [
            "Wall time: 0 ns\n"
          ]
        }
      ],
      "source": [
        "%%time\n",
        "# Inference implementation\n",
        "interpreter.invoke()\n",
        "tflite_results = interpreter.get_tensor(output_details[0]['index'])"
      ]
    },
    {
      "cell_type": "code",
      "execution_count": 757,
      "metadata": {
        "colab": {
          "base_uri": "https://localhost:8080/"
        },
        "id": "vONjp19J9hE8",
        "outputId": "77205e24-fd00-42c4-f7b6-e06e527c2cba"
      },
      "outputs": [
        {
          "name": "stdout",
          "output_type": "stream",
          "text": [
            "[4.2188655e-10 1.0000000e+00 3.5894669e-15 7.3437989e-19 7.6229787e-09]\n",
            "1\n"
          ]
        }
      ],
      "source": [
        "print(np.squeeze(tflite_results))\n",
        "print(np.argmax(np.squeeze(tflite_results)))"
      ]
    },
    {
      "cell_type": "code",
      "execution_count": null,
      "metadata": {},
      "outputs": [],
      "source": []
    }
  ],
  "metadata": {
    "accelerator": "GPU",
    "colab": {
      "collapsed_sections": [],
      "name": "keypoint_classification_EN.ipynb",
      "provenance": [],
      "toc_visible": true
    },
    "kernelspec": {
      "display_name": "Python 3",
      "language": "python",
      "name": "python3"
    },
    "language_info": {
      "codemirror_mode": {
        "name": "ipython",
        "version": 3
      },
      "file_extension": ".py",
      "mimetype": "text/x-python",
      "name": "python",
      "nbconvert_exporter": "python",
      "pygments_lexer": "ipython3",
      "version": "3.9.9"
    }
  },
  "nbformat": 4,
  "nbformat_minor": 0
}
